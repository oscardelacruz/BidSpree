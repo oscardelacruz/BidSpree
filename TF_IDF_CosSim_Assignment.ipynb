{
  "nbformat": 4,
  "nbformat_minor": 0,
  "metadata": {
    "colab": {
      "provenance": [],
      "include_colab_link": true
    },
    "kernelspec": {
      "name": "python3",
      "display_name": "Python 3"
    },
    "language_info": {
      "name": "python"
    }
  },
  "cells": [
    {
      "cell_type": "markdown",
      "metadata": {
        "id": "view-in-github",
        "colab_type": "text"
      },
      "source": [
        "<a href=\"https://colab.research.google.com/github/oscardelacruz/BidSpree/blob/main/TF_IDF_CosSim_Assignment.ipynb\" target=\"_parent\"><img src=\"https://colab.research.google.com/assets/colab-badge.svg\" alt=\"Open In Colab\"/></a>"
      ]
    },
    {
      "cell_type": "code",
      "source": [
        "import os\n",
        "from nltk.corpus import stopwords\n",
        "from nltk.tokenize import word_tokenize\n",
        "from nltk.stem import WordNetLemmatizer\n",
        "from sklearn.feature_extraction.text import TfidfVectorizer\n",
        "from sklearn.metrics.pairwise import cosine_similarity as cosSim"
      ],
      "metadata": {
        "id": "QvjHQu7nmlTo"
      },
      "execution_count": null,
      "outputs": []
    },
    {
      "cell_type": "code",
      "source": [
        "import nltk\n",
        "nltk.download('punkt')\n",
        "nltk.download('stopwords')\n",
        "nltk.download('wordnet')"
      ],
      "metadata": {
        "colab": {
          "base_uri": "https://localhost:8080/"
        },
        "id": "_KiJZs-4mpOD",
        "outputId": "1fe8b05b-4e12-4288-b6de-4b5c25b40f39"
      },
      "execution_count": null,
      "outputs": [
        {
          "output_type": "stream",
          "name": "stderr",
          "text": [
            "[nltk_data] Downloading package punkt to /root/nltk_data...\n",
            "[nltk_data]   Unzipping tokenizers/punkt.zip.\n",
            "[nltk_data] Downloading package stopwords to /root/nltk_data...\n",
            "[nltk_data]   Unzipping corpora/stopwords.zip.\n",
            "[nltk_data] Downloading package wordnet to /root/nltk_data...\n"
          ]
        },
        {
          "output_type": "execute_result",
          "data": {
            "text/plain": [
              "True"
            ]
          },
          "metadata": {},
          "execution_count": 2
        }
      ]
    },
    {
      "cell_type": "code",
      "source": [
        "def readFile(filePath):\n",
        "    with open(filePath, 'r', encoding='utf-8') as file:\n",
        "        return file.read()\n",
        "\n",
        "        file_path = '/content/sample_data.txt'\n",
        "        text = readFile(file_path)\n",
        "        print(text)"
      ],
      "metadata": {
        "id": "3Ho2BKXsmstU"
      },
      "execution_count": null,
      "outputs": []
    },
    {
      "cell_type": "code",
      "source": [
        "def tokenize(text):\n",
        "    return word_tokenize(text)"
      ],
      "metadata": {
        "id": "KvcPeVGsmwql"
      },
      "execution_count": null,
      "outputs": []
    },
    {
      "cell_type": "code",
      "source": [
        "def removeStopwords(tokens):\n",
        "    stopWords = set(stopwords.words('english'))\n",
        "    return [token for token in tokens if token.lower() not in stopWords]"
      ],
      "metadata": {
        "id": "L-PhcGqOm4Q5"
      },
      "execution_count": null,
      "outputs": []
    },
    {
      "cell_type": "code",
      "source": [
        "def lemmatize(tokens):\n",
        "    lemmatizer = WordNetLemmatizer()\n",
        "    return [lemmatizer.lemmatize(token.lower()) for token in tokens]"
      ],
      "metadata": {
        "id": "HE7gqD0Sm6hs"
      },
      "execution_count": null,
      "outputs": []
    },
    {
      "cell_type": "code",
      "source": [
        "def processDocument(filePath):\n",
        "    text = readFile(filePath)\n",
        "    tokens = tokenize(text)\n",
        "    return tokens"
      ],
      "metadata": {
        "id": "tY5m199Zm9IB"
      },
      "execution_count": null,
      "outputs": []
    },
    {
      "cell_type": "code",
      "source": [
        "def main():\n",
        "    dataFolder = '/content/sample_data'\n",
        "    documents = []\n",
        "\n",
        "    # Since there are multiple texts, we need to process each of the documents\n",
        "    for filename in os.listdir(dataFolder):\n",
        "        if filename.endswith('.txt'):\n",
        "            filePath = os.path.join(dataFolder, filename)\n",
        "            result = processDocument(filePath)\n",
        "            documents.append(result)\n",
        "\n",
        "    # Here, we will display the results for each docs after processing\n",
        "    for i, doc in enumerate(documents):\n",
        "        print(f\"Document {i + 1} Results:\")\n",
        "        print(f\"Tokens = {doc['numberTokens']}, Types = {doc['numberTypes']}\")\n",
        "        print(f\"Tokens without Stopwords = {doc['numberTokensWithoutStopwords']}, Types without Stopwords = {doc['numberTypesWithoutStopwords']}\")\n",
        "        print(f\"Size of Vocabulary after Lemmatization = {doc['vocabsizeafterLemm']}\")\n",
        "        print(\"\")"
      ],
      "metadata": {
        "id": "Ke18MYxwSyxG"
      },
      "execution_count": null,
      "outputs": []
    },
    {
      "cell_type": "code",
      "source": [
        "from google.colab import drive\n",
        "drive.mount('/content/drive')"
      ],
      "metadata": {
        "id": "hZ1S5N3pUgkv"
      },
      "execution_count": null,
      "outputs": []
    },
    {
      "cell_type": "code",
      "source": [
        "# Part 1: Tokenization\n",
        "\n",
        "def processDocument(filePath):\n",
        "    tokens = processDocument(\"/content/sample_data.txt\")\n",
        "    numberTokens = len(tokens) #Calculating the number of token in the text provided\n",
        "    numberTypes = len(set(tokens)) #Calculating the number of unique tokens found in the text; removes dupes and finds length of set"
      ],
      "metadata": {
        "id": "n9zTyTUnFAeU"
      },
      "execution_count": null,
      "outputs": []
    },
    {
      "cell_type": "code",
      "source": [
        "# Part 2: Stopword Removal\n",
        "def processDocument(filePath):\n",
        "    tokens = processDocument(\"/content/sample_data.txt\")\n",
        "    tokensWithoutStopwords = removeStopwords(tokens) # Removing the stopwords from the token\n",
        "    numberTokensWithoutStopwords = len(tokensWithoutStopwords)  # Finding the tokens after removing the stopwords\n",
        "    numberTypesWithoutStopwords = len(set(tokensWithoutStopwords)) #Finding the number of types without the stopwords"
      ],
      "metadata": {
        "id": "jb8zpDGTHJhx"
      },
      "execution_count": null,
      "outputs": []
    },
    {
      "cell_type": "code",
      "source": [
        "# Part 3: Lemmatization\n",
        "def processDocument(filePath):\n",
        "    tokens = processDocument(\"/content/sample_data.txt\")\n",
        "    lemmTokens = lemmatize(tokensWithoutStopwords)\n",
        "    vocabsizeafterlemm = len(set(lemmTokens))"
      ],
      "metadata": {
        "id": "JCeHFXlAHr7J"
      },
      "execution_count": null,
      "outputs": []
    },
    {
      "cell_type": "code",
      "source": [
        "# Returning the values calculated from the previous steps\n",
        "\n",
        "result = {\n",
        "    'numberTokens': numberTokens,\n",
        "    'numberTypes': numberTypes,\n",
        "    'numberTokensWithoutStopwords': numTokensWithoutStopwords,\n",
        "    'numberTypesWithoutStopwords': numTypesWithoutStopwords,\n",
        "    'vocabsizeafterlemm': vocabsizeafterlemm,\n",
        "    'lemmTokens': lemmTokens\n",
        "}\n",
        "\n",
        "return result\n",
        "\n"
      ],
      "metadata": {
        "id": "m1KyxHb7JaAh"
      },
      "execution_count": null,
      "outputs": []
    },
    {
      "cell_type": "code",
      "source": [
        "# Part 4: Computing the TF-IDF Values\n",
        "def computeTfidf(corpus):\n",
        "    vectorizer1 = TfidfVectorizer() # vectorizing the values\n",
        "    tfidf = vectorizer1.fit_transform(corpus)\n",
        "    return tfidf\n",
        "\n",
        "corpus = [processDocument(\"/content/sample_data.txt\")]\n",
        "tfidfMatrix = computeTfidf(corpus)\n"
      ],
      "metadata": {
        "id": "XoKOL0BaKItG"
      },
      "execution_count": null,
      "outputs": []
    },
    {
      "cell_type": "code",
      "source": [
        "# Part 5: Determining the Cosine Similarities of the values found\n",
        "def computeCosSim(tfidf):\n",
        "    cosineSimilarities = cosSim(tfidf, tfidf)\n",
        "    return cosineSimilarities\n",
        "    tfidf = {processDocument(\"/content/sample_data.txt\")}\n",
        "\n",
        "cosineSimilarities = computeCosSim(tfidfMatrix)\n",
        "\n",
        "#Printing out the Cosine Similiarity Matrix\n",
        "print(\"Cosine Similarity Matrix:\")\n",
        "  print(cosineSimilarities)"
      ],
      "metadata": {
        "id": "Oxl38xv_cMxg"
      },
      "execution_count": null,
      "outputs": []
    }
  ]
}