{
  "nbformat": 4,
  "nbformat_minor": 0,
  "metadata": {
    "colab": {
      "provenance": [],
      "authorship_tag": "ABX9TyMK1UNiU73d/7kvWlJ2jx4X",
      "include_colab_link": true
    },
    "kernelspec": {
      "name": "python3",
      "display_name": "Python 3"
    },
    "language_info": {
      "name": "python"
    }
  },
  "cells": [
    {
      "cell_type": "markdown",
      "metadata": {
        "id": "view-in-github",
        "colab_type": "text"
      },
      "source": [
        "<a href=\"https://colab.research.google.com/github/oscardelacruz/BidSpree/blob/main/DeLaCruz_quickstats.ipynb\" target=\"_parent\"><img src=\"https://colab.research.google.com/assets/colab-badge.svg\" alt=\"Open In Colab\"/></a>"
      ]
    },
    {
      "cell_type": "code",
      "execution_count": null,
      "metadata": {
        "id": "oPec_Ac1L56N"
      },
      "outputs": [],
      "source": [
        "#author: Oscar De La Cruz\n",
        "#date: 1/30/2023\n",
        "#description: a quick review of statistics\n",
        "                # mean, median, STD, variance\n",
        "#revision history\n",
        "#Name  Date      Description\n",
        "#scl   1/30       INitial Code framework for stats\n",
        "#odlc  1/30/23   Added code for class session\n",
        "#odlc 2/1/23     Completed added code"
      ]
    },
    {
      "cell_type": "code",
      "source": [
        "import pandas as pd\n",
        "import numpy as np\n",
        "import seaborn as sns\n"
      ],
      "metadata": {
        "id": "sHOHuk0SMkJX"
      },
      "execution_count": null,
      "outputs": []
    },
    {
      "cell_type": "code",
      "source": [
        "[] # Add your functions here\n",
        "def f_mean(data):\n",
        "  sum = 0\n",
        "  mu = 0.0\n",
        "  #todo add your own code here\n",
        "  for num in data:\n",
        "    sum = sum + num\n",
        "  mu = sum /(len(data) - 1)\n",
        "\n",
        "\n",
        "  print('Mean =', mu)\n",
        "\n",
        "\n",
        "  return mu\n",
        "\n",
        "def f_variance(data, mean):\n",
        "  sigma = 0.0\n",
        "  sigma = sum([(x - mean)**2 for x in data])\n",
        "\n",
        "  print(\"Variance = \", sigma)\n",
        "  return sigma\n",
        "\n",
        "def f_cov(x, y, x_mu, y_mu):\n",
        "  cov = 0.0\n",
        "  for i in range(len(x)):\n",
        "    cov = cov + (x[i] - x_mu) * (y[i] - y_mu)\n",
        "  print('Covariance = ', cov)\n",
        "  return cov\n",
        "\n",
        "\n",
        "\n"
      ],
      "metadata": {
        "id": "yt_jlL3eMryl"
      },
      "execution_count": null,
      "outputs": []
    },
    {
      "cell_type": "code",
      "source": [
        "#Code Main Function First\n",
        "\n",
        "def main():\n",
        "  results = 0\n",
        "  #in this style of coding we will use upper case x to mean X - features (dimensions)\n",
        "  X = [ 1, 2, 3, 4, 5]\n",
        "\n",
        "  #in this style of coding we will use lower case y to mean y - observed values\n",
        "  y = [1, 3, 3, 2, 5]\n",
        "\n",
        "  results = pd.DataFrame(zip(X,y), columns=['x','y'])\n",
        "\n",
        "  #f_mean()\n",
        "  X_mean = f_mean(X)\n",
        "  y_mean = f_mean(y)\n",
        "\n",
        "\n",
        "  # f_variance()\n",
        "  x_var = f_variance(X, X_mean)\n",
        "  y_var = f_variance(y, y_mean)\n",
        "\n",
        "  # f_std()\n",
        "  X_std = np.sqrt(x_var)\n",
        "  y_std = np.sqrt(y_var)\n",
        "\n",
        "  print(\"Standard Dev = \", X_std)\n",
        "  print(\"Standard Dev = \", y_std)\n",
        "\n",
        "  #f_cov()\n",
        "  Covariance = f_cov(X, y, X_mean, y_mean)\n",
        "  return results\n",
        "\n",
        "# - - call the main function\n",
        "r = main()\n"
      ],
      "metadata": {
        "colab": {
          "base_uri": "https://localhost:8080/"
        },
        "id": "NFOAdBYBMxdF",
        "outputId": "026ad8a2-6c10-4a01-dedc-f6f852482647"
      },
      "execution_count": null,
      "outputs": [
        {
          "output_type": "stream",
          "name": "stdout",
          "text": [
            "Mean = 3.75\n",
            "Mean = 3.5\n",
            "Variance =  12.8125\n",
            "Variance =  11.25\n",
            "Standard Dev =  3.5794552658190883\n",
            "Standard Dev =  3.3541019662496847\n",
            "Covariance =  9.625\n"
          ]
        }
      ]
    }
  ]
}